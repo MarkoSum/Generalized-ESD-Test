{
 "cells": [
  {
   "cell_type": "code",
   "execution_count": 1,
   "id": "92256c91",
   "metadata": {
    "id": "92256c91"
   },
   "outputs": [],
   "source": [
    "import matplotlib.pyplot as plt\n",
    "import numpy as np\n",
    "import pandas as pd\n",
    "import scipy.stats as stats"
   ]
  },
  {
   "cell_type": "code",
   "execution_count": 2,
   "id": "0112b79a",
   "metadata": {
    "id": "0112b79a"
   },
   "outputs": [],
   "source": [
    "%matplotlib inline"
   ]
  },
  {
   "cell_type": "code",
   "execution_count": 3,
   "id": "1f7f7574",
   "metadata": {
    "id": "1f7f7574"
   },
   "outputs": [],
   "source": [
    "df = pd.read_csv(\"C:\\\\Users\\\\Asus Rog Strix\\\\Desktop\\\\FAX\\\\Analiza podatkov kupcev\\\\SVM\\\\Podatki\\\\Dr_podatki_obdelani5.csv\",  encoding = \"ISO-8859-1\")"
   ]
  },
  {
   "cell_type": "code",
   "execution_count": 4,
   "id": "b460becd",
   "metadata": {
    "colab": {
     "base_uri": "https://localhost:8080/",
     "height": 419
    },
    "id": "b460becd",
    "outputId": "ffe90841-e50a-4ed3-a99b-d4e7a90cbb72"
   },
   "outputs": [
    {
     "data": {
      "text/html": [
       "<div>\n",
       "<style scoped>\n",
       "    .dataframe tbody tr th:only-of-type {\n",
       "        vertical-align: middle;\n",
       "    }\n",
       "\n",
       "    .dataframe tbody tr th {\n",
       "        vertical-align: top;\n",
       "    }\n",
       "\n",
       "    .dataframe thead th {\n",
       "        text-align: right;\n",
       "    }\n",
       "</style>\n",
       "<table border=\"1\" class=\"dataframe\">\n",
       "  <thead>\n",
       "    <tr style=\"text-align: right;\">\n",
       "      <th></th>\n",
       "      <th>PLANNO</th>\n",
       "      <th>PERNO</th>\n",
       "      <th>SEX</th>\n",
       "      <th>KRAJ</th>\n",
       "      <th>DRZAVA</th>\n",
       "      <th>POSTCODE</th>\n",
       "      <th>DAVCNA_STEVILKA</th>\n",
       "      <th>STAROST</th>\n",
       "    </tr>\n",
       "  </thead>\n",
       "  <tbody>\n",
       "    <tr>\n",
       "      <th>0</th>\n",
       "      <td>450</td>\n",
       "      <td>69814</td>\n",
       "      <td>M</td>\n",
       "      <td>CERKNICA</td>\n",
       "      <td>SLOVENIJA</td>\n",
       "      <td>1380</td>\n",
       "      <td>11702338</td>\n",
       "      <td>65</td>\n",
       "    </tr>\n",
       "    <tr>\n",
       "      <th>1</th>\n",
       "      <td>450</td>\n",
       "      <td>171359</td>\n",
       "      <td>M</td>\n",
       "      <td>PUCONCI</td>\n",
       "      <td>SLOVENIJA</td>\n",
       "      <td>9201</td>\n",
       "      <td>13751093</td>\n",
       "      <td>73</td>\n",
       "    </tr>\n",
       "    <tr>\n",
       "      <th>2</th>\n",
       "      <td>450</td>\n",
       "      <td>40849</td>\n",
       "      <td>F</td>\n",
       "      <td>ROGASKA SLATINA</td>\n",
       "      <td>SLOVENIJA</td>\n",
       "      <td>3250</td>\n",
       "      <td>33379629</td>\n",
       "      <td>42</td>\n",
       "    </tr>\n",
       "    <tr>\n",
       "      <th>3</th>\n",
       "      <td>450</td>\n",
       "      <td>223698</td>\n",
       "      <td>F</td>\n",
       "      <td>LJUBLJANA</td>\n",
       "      <td>SLOVENIJA</td>\n",
       "      <td>1000</td>\n",
       "      <td>34518916</td>\n",
       "      <td>48</td>\n",
       "    </tr>\n",
       "    <tr>\n",
       "      <th>4</th>\n",
       "      <td>450</td>\n",
       "      <td>178206</td>\n",
       "      <td>M</td>\n",
       "      <td>NOVO MESTO</td>\n",
       "      <td>SLOVENIJA</td>\n",
       "      <td>8000</td>\n",
       "      <td>61677787</td>\n",
       "      <td>68</td>\n",
       "    </tr>\n",
       "    <tr>\n",
       "      <th>...</th>\n",
       "      <td>...</td>\n",
       "      <td>...</td>\n",
       "      <td>...</td>\n",
       "      <td>...</td>\n",
       "      <td>...</td>\n",
       "      <td>...</td>\n",
       "      <td>...</td>\n",
       "      <td>...</td>\n",
       "    </tr>\n",
       "    <tr>\n",
       "      <th>178738</th>\n",
       "      <td>320</td>\n",
       "      <td>241916</td>\n",
       "      <td>F</td>\n",
       "      <td>LJUBLJANA</td>\n",
       "      <td>SLOVENIJA</td>\n",
       "      <td>1000</td>\n",
       "      <td>35336439</td>\n",
       "      <td>31</td>\n",
       "    </tr>\n",
       "    <tr>\n",
       "      <th>178739</th>\n",
       "      <td>136</td>\n",
       "      <td>48404</td>\n",
       "      <td>F</td>\n",
       "      <td>GRADAC</td>\n",
       "      <td>SLOVENIJA</td>\n",
       "      <td>8332</td>\n",
       "      <td>59156716</td>\n",
       "      <td>63</td>\n",
       "    </tr>\n",
       "    <tr>\n",
       "      <th>178740</th>\n",
       "      <td>800</td>\n",
       "      <td>494461</td>\n",
       "      <td>N</td>\n",
       "      <td>LJUBLJANA</td>\n",
       "      <td>SLOVENIJA</td>\n",
       "      <td>1000</td>\n",
       "      <td>84382856</td>\n",
       "      <td>45</td>\n",
       "    </tr>\n",
       "    <tr>\n",
       "      <th>178741</th>\n",
       "      <td>800</td>\n",
       "      <td>557804</td>\n",
       "      <td>N</td>\n",
       "      <td>SEMPETER PRI GORICI</td>\n",
       "      <td>SLOVENIJA</td>\n",
       "      <td>5290</td>\n",
       "      <td>45156204</td>\n",
       "      <td>43</td>\n",
       "    </tr>\n",
       "    <tr>\n",
       "      <th>178742</th>\n",
       "      <td>800</td>\n",
       "      <td>558062</td>\n",
       "      <td>N</td>\n",
       "      <td>LJUBLJANA</td>\n",
       "      <td>SLOVENIJA</td>\n",
       "      <td>1000</td>\n",
       "      <td>84875909</td>\n",
       "      <td>19</td>\n",
       "    </tr>\n",
       "  </tbody>\n",
       "</table>\n",
       "<p>178743 rows × 8 columns</p>\n",
       "</div>"
      ],
      "text/plain": [
       "        PLANNO   PERNO SEX                 KRAJ     DRZAVA POSTCODE  \\\n",
       "0          450   69814   M             CERKNICA  SLOVENIJA     1380   \n",
       "1          450  171359   M              PUCONCI  SLOVENIJA     9201   \n",
       "2          450   40849   F      ROGASKA SLATINA  SLOVENIJA     3250   \n",
       "3          450  223698   F            LJUBLJANA  SLOVENIJA     1000   \n",
       "4          450  178206   M           NOVO MESTO  SLOVENIJA     8000   \n",
       "...        ...     ...  ..                  ...        ...      ...   \n",
       "178738     320  241916   F            LJUBLJANA  SLOVENIJA     1000   \n",
       "178739     136   48404   F               GRADAC  SLOVENIJA     8332   \n",
       "178740     800  494461   N            LJUBLJANA  SLOVENIJA     1000   \n",
       "178741     800  557804   N  SEMPETER PRI GORICI  SLOVENIJA     5290   \n",
       "178742     800  558062   N            LJUBLJANA  SLOVENIJA     1000   \n",
       "\n",
       "       DAVCNA_STEVILKA  STAROST  \n",
       "0             11702338       65  \n",
       "1             13751093       73  \n",
       "2             33379629       42  \n",
       "3             34518916       48  \n",
       "4             61677787       68  \n",
       "...                ...      ...  \n",
       "178738        35336439       31  \n",
       "178739        59156716       63  \n",
       "178740        84382856       45  \n",
       "178741        45156204       43  \n",
       "178742        84875909       19  \n",
       "\n",
       "[178743 rows x 8 columns]"
      ]
     },
     "execution_count": 4,
     "metadata": {},
     "output_type": "execute_result"
    }
   ],
   "source": [
    "df"
   ]
  },
  {
   "cell_type": "code",
   "execution_count": 5,
   "id": "785499a7",
   "metadata": {
    "id": "785499a7"
   },
   "outputs": [],
   "source": [
    "y= df['STAROST']\n",
    "x= df['PLANNO']"
   ]
  },
  {
   "cell_type": "code",
   "execution_count": 6,
   "id": "421044e3",
   "metadata": {
    "id": "421044e3"
   },
   "outputs": [],
   "source": [
    "y= np.array(y,dtype=int) \n",
    "x= np.array(x,dtype=int)"
   ]
  },
  {
   "cell_type": "code",
   "execution_count": 7,
   "id": "5366dec2",
   "metadata": {
    "colab": {
     "base_uri": "https://localhost:8080/",
     "height": 295
    },
    "id": "5366dec2",
    "outputId": "060d40f6-ceb3-4b04-840f-64b01226a7c3"
   },
   "outputs": [
    {
     "data": {
      "image/png": "[encoded data removed]",
      "text/plain": [
       "<Figure size 432x288 with 1 Axes>"
      ]
     },
     "metadata": {
      "needs_background": "light"
     },
     "output_type": "display_data"
    }
   ],
   "source": [
    "plt.scatter(x,y)\n",
    "plt.title(\"STAROST in PLANNO\")\n",
    "plt.xlabel(\"PLANNO\")\n",
    "plt.ylabel(\"STAROST\")\n",
    "plt.show()"
   ]
  },
  {
   "cell_type": "code",
   "execution_count": 8,
   "id": "29b94350",
   "metadata": {
    "id": "29b94350"
   },
   "outputs": [],
   "source": [
    "def grubbs_stat(y):\n",
    "  std_dev = np.std(y)\n",
    "  avg_y = np.mean(y)\n",
    "  abs_val_minus_avg = abs(y - avg_y)\n",
    "  max_of_deviations = max(abs_val_minus_avg)\n",
    "  max_ind = np.argmax(abs_val_minus_avg)\n",
    "  Gcal = max_of_deviations/ std_dev\n",
    "  print(\"Grubbs Statistics Value : {}\".format(Gcal))\n",
    "  return Gcal, max_ind"
   ]
  },
  {
   "cell_type": "code",
   "execution_count": 9,
   "id": "fefacd16",
   "metadata": {
    "id": "fefacd16"
   },
   "outputs": [],
   "source": [
    "def calculate_critical_value(size, alpha):\n",
    "  t_dist = stats.t.ppf(1 - alpha / (2 * size), size - 2)\n",
    "  numerator = (size - 1) * np.sqrt(np.square(t_dist))\n",
    "  denominator = np.sqrt(size) * np.sqrt(size - 2 + np.square(t_dist))\n",
    "  critical_value = numerator / denominator\n",
    "  print(\"Grubbs Critical Value: {}\".format(critical_value))\n",
    "  return critical_value"
   ]
  },
  {
   "cell_type": "code",
   "execution_count": 10,
   "id": "7e9e9683",
   "metadata": {
    "id": "7e9e9683"
   },
   "outputs": [],
   "source": [
    "def check_G_values(Gs, Gc, inp, max_index):\n",
    "  if Gs > Gc:\n",
    "      print('{} is an outlier. G > G-critical: {:.4f} > {:.4f} \\n'.format(inp[max_index], Gs, Gc))\n",
    "  else:\n",
    "      print('{} is not an outlier. G > G-critical: {:.4f} > {:.4f} \\n'.format(inp[max_index], Gs, Gc))"
   ]
  },
  {
   "cell_type": "code",
   "execution_count": 11,
   "id": "1432eaa2",
   "metadata": {
    "id": "1432eaa2"
   },
   "outputs": [],
   "source": [
    "def ESD_Test(input_series, alpha, max_outliers):\n",
    "  for iterations in range(max_outliers):\n",
    "      Gcritical = calculate_critical_value(len(input_series), alpha)\n",
    "      Gstat, max_index = grubbs_stat(input_series)\n",
    "      check_G_values(Gstat, Gcritical, input_series, max_index)\n",
    "      input_series = np.delete(input_series, max_index)"
   ]
  },
  {
   "cell_type": "code",
   "execution_count": 13,
   "id": "5c6dfb62",
   "metadata": {
    "colab": {
     "base_uri": "https://localhost:8080/"
    },
    "id": "5c6dfb62",
    "outputId": "07bfd3e3-fbd5-43f4-ad6d-8b96f4a4c5d9",
    "scrolled": false
   },
   "outputs": [
    {
     "name": "stdout",
     "output_type": "stream",
     "text": [
      "Grubbs Critical Value: 5.136432606914459\n",
      "Grubbs Statistics Value : 5.205762056137465\n",
      "120 is an outlier. G > G-critical: 5.2058 > 5.1364 \n",
      "\n",
      "Grubbs Critical Value: 5.136431554157906\n",
      "Grubbs Statistics Value : 5.2061712999904\n",
      "120 is an outlier. G > G-critical: 5.2062 > 5.1364 \n",
      "\n",
      "Grubbs Critical Value: 5.136430501257801\n",
      "Grubbs Statistics Value : 3.332821725979061\n",
      "93 is not an outlier. G > G-critical: 3.3328 > 5.1364 \n",
      "\n",
      "Grubbs Critical Value: 5.136429448512595\n",
      "Grubbs Statistics Value : 3.263534171745317\n",
      "92 is not an outlier. G > G-critical: 3.2635 > 5.1364 \n",
      "\n"
     ]
    }
   ],
   "source": [
    "ESD_Test(y, 0.05, 4)"
   ]
  },
  {
   "cell_type": "code",
   "execution_count": null,
   "id": "850b83cb",
   "metadata": {
    "id": "850b83cb"
   },
   "outputs": [],
   "source": []
  }
 ],
 "metadata": {
  "colab": {
   "name": "Multi Grubbs.ipynb",
   "provenance": []
  },
  "kernelspec": {
   "display_name": "Python 3",
   "language": "python",
   "name": "python3"
  },
  "language_info": {
   "codemirror_mode": {
    "name": "ipython",
    "version": 3
   },
   "file_extension": ".py",
   "mimetype": "text/x-python",
   "name": "python",
   "nbconvert_exporter": "python",
   "pygments_lexer": "ipython3",
   "version": "3.8.8"
  }
 },
 "nbformat": 4,
 "nbformat_minor": 5
}
